{
 "cells": [
  {
   "cell_type": "code",
   "execution_count": 1,
   "id": "f619028b",
   "metadata": {},
   "outputs": [],
   "source": [
    "# import libraries\n",
    "%matplotlib inline\n",
    "import torch\n",
    "from torch.distributions.multinomial import Multinomial\n",
    "import matplotlib.pyplot as plt"
   ]
  },
  {
   "cell_type": "code",
   "execution_count": 2,
   "id": "7cfb7b23",
   "metadata": {},
   "outputs": [
    {
     "data": {
      "text/plain": [
       "tensor([48., 52.])"
      ]
     },
     "execution_count": 2,
     "metadata": {},
     "output_type": "execute_result"
    }
   ],
   "source": [
    "# sampling 100 of heads and tails by tossing a fair coin\n",
    "probs = torch.tensor([0.5, 0.5])\n",
    "sample = Multinomial(100, probs).sample()\n",
    "sample"
   ]
  },
  {
   "cell_type": "code",
   "execution_count": 3,
   "id": "3da7fb3c",
   "metadata": {},
   "outputs": [
    {
     "data": {
      "text/plain": [
       "tensor([0.4800, 0.5200])"
      ]
     },
     "execution_count": 3,
     "metadata": {},
     "output_type": "execute_result"
    }
   ],
   "source": [
    "# computing the frequencies\n",
    "sample / 100"
   ]
  },
  {
   "cell_type": "code",
   "execution_count": 4,
   "id": "03413bcf",
   "metadata": {},
   "outputs": [
    {
     "data": {
      "text/plain": [
       "tensor([0.5006, 0.4994])"
      ]
     },
     "execution_count": 4,
     "metadata": {},
     "output_type": "execute_result"
    }
   ],
   "source": [
    "# simulating 10000 tosses \n",
    "Multinomial(10000, probs).sample() / 10000 "
   ]
  },
  {
   "cell_type": "markdown",
   "id": "ed63fbba",
   "metadata": {},
   "source": [
    "As you can see as the number of tosses is big, the frequencies of heads and tails get closer, this phenomenon is called the law of large numbers. And by definition of the central limit theorem, as the sample size (n) grows, the error goes down by at a rate of 1/sqrt(n)."
   ]
  },
  {
   "cell_type": "code",
   "execution_count": 5,
   "id": "48591c34",
   "metadata": {},
   "outputs": [
    {
     "data": {
      "text/plain": [
       "(tensor([[0.0000e+00, 1.0000e+00],\n",
       "         [0.0000e+00, 2.0000e+00],\n",
       "         [1.0000e+00, 2.0000e+00],\n",
       "         ...,\n",
       "         [4.9750e+03, 5.0230e+03],\n",
       "         [4.9760e+03, 5.0230e+03],\n",
       "         [4.9760e+03, 5.0240e+03]]),\n",
       " torch.Size([10000, 2]))"
      ]
     },
     "execution_count": 5,
     "metadata": {},
     "output_type": "execute_result"
    }
   ],
   "source": [
    "# studying the effect of sampling a large sample on a coin of 2 outcomes (heads, tails)\n",
    "sample = Multinomial(1, probs).sample((10000,))\n",
    "sample_counts = sample.cumsum(dim=0)\n",
    "sample_counts, sample_counts.shape"
   ]
  },
  {
   "cell_type": "code",
   "execution_count": 6,
   "id": "9a40eece",
   "metadata": {},
   "outputs": [
    {
     "data": {
      "text/plain": [
       "(array([[0.        , 1.        ],\n",
       "        [0.        , 1.        ],\n",
       "        [0.33333334, 0.6666667 ],\n",
       "        ...,\n",
       "        [0.4975995 , 0.50240046],\n",
       "        [0.49764976, 0.5023502 ],\n",
       "        [0.4976    , 0.5024    ]], dtype=float32),\n",
       " (10000, 2))"
      ]
     },
     "execution_count": 6,
     "metadata": {},
     "output_type": "execute_result"
    }
   ],
   "source": [
    "# computing an estimator\n",
    "estimates = sample_counts / sample_counts.sum(dim=1, keepdims=True)\n",
    "estimates = estimates.numpy()\n",
    "estimates,  estimates.shape"
   ]
  },
  {
   "cell_type": "code",
   "execution_count": 7,
   "id": "8f45c9a6",
   "metadata": {},
   "outputs": [
    {
     "data": {
      "text/plain": [
       "<matplotlib.legend.Legend at 0x16025250>"
      ]
     },
     "execution_count": 7,
     "metadata": {},
     "output_type": "execute_result"
    },
    {
     "data": {
      "image/png": "[encoded data removed]",
      "text/plain": [
       "<Figure size 450x450 with 1 Axes>"
      ]
     },
     "metadata": {},
     "output_type": "display_data"
    }
   ],
   "source": [
    "# drawing sample numbers vs the estimated probability of each outcome\n",
    "plt.figure(figsize=(4.5, 4.5))\n",
    "plt.plot(estimates[:, 0], label=\"P(coin=heads)\")\n",
    "plt.plot(estimates[:, 1], label=\"P(coin=tails)\")\n",
    "plt.axhline(y=0.5, color='black', linestyle='dashed') # line of the expected probability\n",
    "plt.xlabel('Samples')\n",
    "plt.ylabel('Estimated probability')\n",
    "plt.legend()"
   ]
  }
 ],
 "metadata": {
  "kernelspec": {
   "display_name": "Python 3 (ipykernel)",
   "language": "python",
   "name": "python3"
  },
  "language_info": {
   "codemirror_mode": {
    "name": "ipython",
    "version": 3
   },
   "file_extension": ".py",
   "mimetype": "text/x-python",
   "name": "python",
   "nbconvert_exporter": "python",
   "pygments_lexer": "ipython3",
   "version": "3.8.16"
  }
 },
 "nbformat": 4,
 "nbformat_minor": 5
}
